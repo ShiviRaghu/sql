{
  "nbformat": 4,
  "nbformat_minor": 0,
  "metadata": {
    "colab": {
      "provenance": [],
      "authorship_tag": "ABX9TyPwUbZNYRZPZ3mexb/rMU/Q",
      "include_colab_link": true
    },
    "kernelspec": {
      "name": "python3",
      "display_name": "Python 3"
    },
    "language_info": {
      "name": "python"
    }
  },
  "cells": [
    {
      "cell_type": "markdown",
      "metadata": {
        "id": "view-in-github",
        "colab_type": "text"
      },
      "source": [
        "<a href=\"https://colab.research.google.com/github/ShiviRaghu/sql/blob/main/SQL_NOTES.ipynb\" target=\"_parent\"><img src=\"https://colab.research.google.com/assets/colab-badge.svg\" alt=\"Open In Colab\"/></a>"
      ]
    },
    {
      "cell_type": "markdown",
      "source": [
        "# INTRO\n",
        "\n",
        "* **DS** --> LAYMAN LANG --> to extract meaningful inf from raw data and to make buisness decision /data driven decision and to make predicitive models\n",
        "\n",
        "* **DA** --> LAYMAN LANG --> analyse data,extract data, visualize,dashboards, buisness decision\n",
        "\n",
        "* **DS --> DA + MODELS/PREDICTION**\n",
        "\n",
        "* **DATABASE** --> to predict data we need data, so to store this we need place called as db\n",
        "1. organised collection of data\n",
        "2. allow easy access,management and retrieval of data\n",
        "3. digital filling cabinet\n",
        "4. some format stored data ex -tabular data\n",
        "5. defined storage\n",
        "6. FE (end user inputs data) --> DBMS --> DB\n",
        "\n",
        "\n",
        "* **SQL** - structured progamming language\n",
        "1. it is used to interact with dbms, sql <-->dbms<-->db\n",
        "2. used to communicate and manage data stored in relational databases.\n",
        "3. use to create, manipulate, retrieve, design, maintain db\n",
        "\n",
        "* **Functions of SQL:** -\n",
        "1. Data Querying: Retrieve data from a database using the SELECT statement.\n",
        "2. Data Manipulation(DML): Perform operations like inserting (INSERT), updating (UPDATE), and deleting (DELETE) data.\n",
        "3. Data Definition (DDL) : Define the structure of a database using - CREATE, ALTER, and DROP.\n",
        "4. Data Control(DCL): Control access and permissions to data using -\n",
        "GRANT and REVOKE.\n",
        "\n",
        "\n",
        "\n",
        "* **Importance of SQL**\n",
        "1. Industry Standard(widely used), Scalability, Cross-Platform Compatibility, Declarative Nature, Data Integrity\n",
        "\n",
        "* **Applications of SQL**\n",
        "1. Data Storage, Data Definition, Data Retrieval, Data Manipulation, Data Security, Data Analysis: SQL supports data analysis by performing calculations, generating reports, and creating visualizations based on queried data.\n",
        "\n",
        "* **Advantages of SQL**\n",
        "1. Ease of Use, Standardization: SQL is a standardized language, making it compatible with numerous database management systems. This ensures seamless data transfer across different systems., Scalability,\n",
        "Flexibility, Security, Performance etc\n",
        "\n",
        "* **Limitations of SQL**\n",
        "1. Complexity: SQL can be difficult to learn, Limited Support for Non-Relational Data, Cost:license\n",
        "2. Scalability Challenges: Although SQL is scalable, managing very large datasets with a centralized architecture can pose challenges and lead to performance bottlenecks.\n",
        "3. Performance Issues with Large Datasets: SQL may experience performance degradation when handling exceptionally large datasets or highly complex queries, potentially impacting user experience.\n",
        "\n",
        "* **ACID properties of SQL** - imp to maintain reliability /accuracy of transaction(one logical unit)\n",
        "1. Atomicity - single unit of transaction - not dividable a- a+\n",
        "2. consistency\n",
        "3. isolation - transaction will not interact ex - 1 seat booked by 2 people only 1 success\n",
        "4. durability - permanent  transaction (no undo redo again  again ) ex- sear booked should not lost if server is down\n"
      ],
      "metadata": {
        "id": "Ldo7_ya-t7MU"
      }
    },
    {
      "cell_type": "markdown",
      "source": [
        "#DBMS\n",
        "\n",
        "* **Database management software - DBMS**\n",
        "1. its a specialised software --> to manage db, create db, retrieve, control your database\n",
        "2. like librarian job to manage library\n",
        "3. acts as a bridge between app and database\n",
        "\n",
        "\n",
        "* **imp of dbms**\n",
        "1. efficency of data (create,storage,manipulation etc)\n",
        "2. improved data sharing (n people at 1 time can use)\n",
        "3. data integrity and security (constraints , access level)\n",
        "\n",
        "* **types of dbms**\n",
        "1. Relational DBMS\n",
        "2. HEIRARCHICAL DBMS(IBM inf management, windows registry )\n",
        "3. OBJECT ORIENTED DBMS\n",
        "4. NO SQL(not only sql)\n",
        "5. COLUMNAR (Cassandra)\n",
        "6. NETWORK (graph format- Neo4j)\n",
        "7. IN MEMORY\n",
        "\n",
        "* **Relational Databases (SQL)**\n",
        "1. Relational databases store data in tables (rows -records/instances and columns/attributes) and maintain relationships between different tables using keys (Primary Key, Foreign Key).\n",
        "2. SQL is used to query and manipulate relational databases\n",
        "3. example - MySQL, PostgreSQL(+json advance indexing), Microsoft SQL Server, Oracle Database(large db)\n",
        "\n",
        "\n",
        "* **components of RDBMS**\n",
        "1. tables, relationship(keys), data integrity, normalization\n",
        "2. normalization(to study )\n",
        "\n",
        "\n",
        "* **Non Relational Databases (NoSQL)**\n",
        "\n",
        "1. do not follow a tabular structure. Instead, they store data in various formats such as key-value pairs, documents, graphs, or columns.\n",
        "2. NoSQL databases are more flexible and are often used when dealing with large volumes of unstructured or semi-structured data.\n",
        "3. ex **-MongoDB (Document-based - JSON - NOSQL), Cassandra (Column-family based), Redis (Key-value store), Neo4j (Graph-based)**\n",
        "\n",
        "\n",
        "\n",
        "* **Hierarchical Databases**\n",
        "1. parent -->child relational -->tree like structure\n",
        "2. ex - IBM inf management, windows registry\n",
        "\n",
        "* **RDBMS(sql) || RDBMS(no sql)**\n",
        "\n",
        "1. Data is stored in structured tables with relationships between different tables.    || 1. Data is stored in a flexible format (key-value pairs, documents, columns, etc.).\n",
        "2. Provides ACID (Atomicity, Consistency, Isolation, Durability) properties, ensuring data reliability and integrity. || 2. Provides BASE (Basically Available, Soft state, Eventual consistency) for high availability and distributed systems.\n",
        "3. Suitable for complex querying and data analysis. || 3. Used large datasets with simple queries, intearcts through API or other query model\n",
        "4. More rigid schema with predefined structure. || 4. Offers scalability and better performance for unstructured or semi-structured data.\n",
        "\n",
        "* **(sql) || (no sql)**\n",
        "\n",
        "\n",
        "1. SQLfor database interaction-where data relationships and integrity are crucial. || 1. interaction happens through APIs or other query models depending on the database (e.g., MongoDB uses MQL—Mongo Query Language).\n",
        "2. Requires a fixed schema || 2. offers flexibility in schema design,\n",
        "3. Ideal for high-velocity, high-volume data with minimal structure, such as real-time data processing or big data applications.\n",
        "\n",
        "4. install server, bench, shell\n",
        "\n",
        "\n",
        "\n"
      ],
      "metadata": {
        "id": "g5AwgDgsw2el"
      }
    },
    {
      "cell_type": "markdown",
      "source": [
        "#EXTRAS\n",
        "\n",
        "* **HOW TO STORE DATA OTHER THAN DB??**\n",
        "1. flat files - csv/text files --> small project\n",
        "2. spreadsheet\n",
        "3. in memory data stores -(redis -->ram-high speed)\n",
        "4. no sql - unstr data,rapidly changing\n",
        "5. file storage services(cloud storage) - amazon s3,google cloud, microsoft azure\n",
        "6. key value pair - dynamo db, redis\n",
        "7. content mangement system(cms) - wordpress, drupal(media)\n",
        "8. block chain\n",
        "\n",
        "* **HOW to access data w/o DB??**\n",
        "1. direct file access\n",
        "2. custom code\n",
        "3. using file based db (sqllite)\n",
        "4. using low level file readers\n",
        "\n",
        "* **schema** -->logical structure --> how data is organized within bd, serves as blueprint for db objects/ organises data exists within db\n",
        "\n",
        "* **EXAMPLES**\n",
        "\n",
        "1. open source --> mysql, postgresql, sqllite\n",
        "2. commercial -->oracle, microsoft, IBM\n",
        "3. cloubase -->amazon s3, google cloud, azure\n",
        "4. distributed --> google spanner, cockroach db\n",
        "5. columnar --> **amazon redshift, google big query, sap hana**\n",
        "6. object --> postgresql, informix\n",
        "7. in memory - sap hana, oracle time, volt db\n",
        "\n",
        "\n",
        "* **vertical(up) || horizontal(out) scalability**\n",
        "\n",
        "1. add more power to single server (cpu,ram) || 1.add more server to distribute load\n",
        "2. ltd capacity by 1 server || 2. more\n",
        "3. simple || 3.complex\n",
        "4. single point failure, small to medium\n",
        "\n",
        "\n",
        "* **types of file can be imported**\n",
        "1. .csv\n",
        "2. .sql"
      ],
      "metadata": {
        "id": "yZttgaWJ68Y2"
      }
    },
    {
      "cell_type": "markdown",
      "source": [
        "# DATA TYPES"
      ],
      "metadata": {
        "id": "GI5TQ02V_y68"
      }
    },
    {
      "cell_type": "markdown",
      "source": [
        "# CONSTRAINTS"
      ],
      "metadata": {
        "id": "rdAwpv98_3DU"
      }
    },
    {
      "cell_type": "markdown",
      "source": [
        "# COMMANDS"
      ],
      "metadata": {
        "id": "5NDQspdhAIDW"
      }
    },
    {
      "cell_type": "markdown",
      "source": [
        "# SELECT"
      ],
      "metadata": {
        "id": "G2iZKhMQANpa"
      }
    },
    {
      "cell_type": "markdown",
      "source": [
        "# SQL DB MANAGEMENT AND MANIPULATION"
      ],
      "metadata": {
        "id": "S2Q7uZITAS08"
      }
    },
    {
      "cell_type": "markdown",
      "source": [
        "# INDEX-VIEW"
      ],
      "metadata": {
        "id": "yVqrIBoIAZPS"
      }
    },
    {
      "cell_type": "markdown",
      "source": [
        "# JOINS"
      ],
      "metadata": {
        "id": "Acmq-aCEAbin"
      }
    },
    {
      "cell_type": "markdown",
      "source": [
        "# OPERATORS"
      ],
      "metadata": {
        "id": "1AZSPjKyAeTL"
      }
    },
    {
      "cell_type": "markdown",
      "source": [
        "# FUNCTIONS"
      ],
      "metadata": {
        "id": "Kt4OWjY8AiHH"
      }
    },
    {
      "cell_type": "markdown",
      "source": [
        "# FUNCTIONS AND AGGREGATION"
      ],
      "metadata": {
        "id": "4ZCC59zGAlkz"
      }
    },
    {
      "cell_type": "markdown",
      "source": [
        "# SUBQUERIES"
      ],
      "metadata": {
        "id": "qXp0creJApVk"
      }
    },
    {
      "cell_type": "markdown",
      "source": [
        "# WINDOW FUNCTION"
      ],
      "metadata": {
        "id": "6-NFg8o9Asme"
      }
    },
    {
      "cell_type": "markdown",
      "source": [
        "# CTE'S"
      ],
      "metadata": {
        "id": "pPr-nF2FAxLt"
      }
    },
    {
      "cell_type": "markdown",
      "source": [
        "# REGEXP"
      ],
      "metadata": {
        "id": "O17U5zUxAzKq"
      }
    },
    {
      "cell_type": "markdown",
      "source": [],
      "metadata": {
        "id": "zQbwl-wS68Sv"
      }
    },
    {
      "cell_type": "code",
      "source": [],
      "metadata": {
        "id": "BELhETHU67_O"
      },
      "execution_count": null,
      "outputs": []
    },
    {
      "cell_type": "code",
      "execution_count": null,
      "metadata": {
        "id": "xvw1HgDCs4vv"
      },
      "outputs": [],
      "source": []
    }
  ]
}