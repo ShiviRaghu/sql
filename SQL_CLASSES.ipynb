{
  "nbformat": 4,
  "nbformat_minor": 0,
  "metadata": {
    "colab": {
      "provenance": [],
      "authorship_tag": "ABX9TyOEoPRJx02GH8WQE40ZzZrL",
      "include_colab_link": true
    },
    "kernelspec": {
      "name": "python3",
      "display_name": "Python 3"
    },
    "language_info": {
      "name": "python"
    }
  },
  "cells": [
    {
      "cell_type": "markdown",
      "metadata": {
        "id": "view-in-github",
        "colab_type": "text"
      },
      "source": [
        "<a href=\"https://colab.research.google.com/github/ShiviRaghu/sql/blob/main/SQL_CLASSES.ipynb\" target=\"_parent\"><img src=\"https://colab.research.google.com/assets/colab-badge.svg\" alt=\"Open In Colab\"/></a>"
      ]
    },
    {
      "cell_type": "markdown",
      "source": [
        "## SQL CLASSES SCHEDULE -\n",
        "\n",
        "\n",
        "1. INTRO TO SQL\n",
        "2. CORE CONCEPTS OF SQL\n",
        "3. SELECT WHERE\n",
        "4. DOUBT CLASS\n",
        "5. OPERATORS\n",
        "6. AGGREGATION\n",
        "7. ORDER OF EXECUTION\n",
        "8. DOUBT CLASS\n",
        "9. JOINS\n",
        "10. SUBQUERIES\n",
        "11. CTE'S\n",
        "12. DOUBT CLASS\n",
        "13. WINDOW FUNCTIONS\n",
        "14. CONNECTING TO MULTIPLE DBS\n",
        "15. SQL MANIPULATION\n",
        "16. normalization\n",
        "17. project\n",
        "\n",
        "\n",
        "\n"
      ],
      "metadata": {
        "id": "wYmdU71gQQ8I"
      }
    },
    {
      "cell_type": "markdown",
      "source": [
        "## INDEX\n",
        "\n",
        "\n",
        "1.   List item\n",
        "2.   List item\n",
        "\n"
      ],
      "metadata": {
        "id": "dcoryva8rmgU"
      }
    },
    {
      "cell_type": "markdown",
      "source": [
        "### INTRO TO SQL\n",
        "\n",
        "1. **D.S** --> IN LAYMAN LANGUAGE ITS TO EXTACT MEANIGFUL DATA AND GIVE BUISNESS/ USEFUL INSIGHTS OR MAKE PREDICTION MODELS\n",
        "\n",
        "2. **D.A** --> SUBSET OF D.S --> EXTRACT INF MEANIGFUL DATA AND GIVE BUISNESS/ USEFUL INSIGHTS\n",
        " EXTRACT INF  + PREDICTION MODELS = D.S\n",
        "\n",
        " EX --> ELECTION DATA TO PREDICT RESULTS, STARTUP DATA TO GIVE NEXT YEAR SALES\n",
        "\n",
        " THIS DATA NEEDS TO BE STORE SOMWHERE -->THAT PLACE IS CALLED AS **DATABASE**\n",
        "\n",
        "3. **DATABASE** --> ORGANIZED COLLECTION OF DATA, WHICH ALLOW EASY ACCESS, MANAGEMENT,AND RETRIEVAL OF DATA, ITS LIKE DIGITAL FILLING CABINET\n",
        "\n",
        "    FE (OF COMAPNY)/ END USER ---> DBMS --> DB\n",
        "\n",
        "4. **DBMS**  --> DATABASE MANAGEMENT SYSTEM - SPECIALIZED SOFTWARE\n",
        "IT ACTS AS A BRIDGE BTW APP AND DB\n",
        "IT HELP US TO CREATE DB, MANAGE DB, RETRIEVE, CONTROL THE FLOW OF UR DATA\n",
        "\n",
        "  **IMP OF DBMS** --> 1. EFFICENCY OF DATA -CREATE DB, MANAGE DB, RETRIEVE, CONTROL THE FLOW OF UR DATA 2. IMPROVE DATA SHARING(N PEOPLE AT A TIME) 3. DATA INTEGRITY SECURITY\n",
        "\n",
        "  DATA IS A PIECE OF INF - STR (TABULAR), UNSTR(PDF,MEDIA LOGS, WORDD FILES, JSON), SEMI STR(IMAGES, VIDEOS)\n",
        "\n",
        "  **TYPES OF DBMS** -->\n",
        "                        1.Relational Databases\n",
        "                        2.Non-Relational Databases -NOSQL\n",
        "                        3.Hierarchical\n",
        "                        4.Network\n",
        "                        5.Object oriented\n",
        "                        6.Columnar\n",
        "                        7.In Memory\n",
        "\n",
        "\n",
        "\n",
        "\n"
      ],
      "metadata": {
        "id": "G7bJpeDur3YG"
      }
    },
    {
      "cell_type": "markdown",
      "source": [],
      "metadata": {
        "id": "UU8aX6jns3EO"
      }
    }
  ]
}