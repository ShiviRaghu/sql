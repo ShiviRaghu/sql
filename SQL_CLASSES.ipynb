{
  "nbformat": 4,
  "nbformat_minor": 0,
  "metadata": {
    "colab": {
      "provenance": [],
      "authorship_tag": "ABX9TyMrHgfp9RBIn0Tp/XW6Bzt3",
      "include_colab_link": true
    },
    "kernelspec": {
      "name": "python3",
      "display_name": "Python 3"
    },
    "language_info": {
      "name": "python"
    }
  },
  "cells": [
    {
      "cell_type": "markdown",
      "metadata": {
        "id": "view-in-github",
        "colab_type": "text"
      },
      "source": [
        "<a href=\"https://colab.research.google.com/github/ShiviRaghu/sql/blob/main/SQL_CLASSES.ipynb\" target=\"_parent\"><img src=\"https://colab.research.google.com/assets/colab-badge.svg\" alt=\"Open In Colab\"/></a>"
      ]
    },
    {
      "cell_type": "markdown",
      "source": [
        "## SQL CLASSES SCHEDULE -\n",
        "\n",
        "\n",
        "1. INTRO TO SQL\n",
        "2. CORE CONCEPTS OF SQL\n",
        "3. SELECT WHERE\n",
        "4. DOUBT CLASS\n",
        "5. OPERATORS\n",
        "6. AGGREGATION\n",
        "7. ORDER OF EXECUTION\n",
        "8. DOUBT CLASS\n",
        "9. JOINS\n",
        "10. SUBQUERIES\n",
        "11. CTE'S\n",
        "12. DOUBT CLASS\n",
        "13. WINDOW FUNCTIONS\n",
        "14. CONNECTING TO MULTIPLE DBS\n",
        "15. SQL MANIPULATION\n",
        "16. normalization\n",
        "17. project\n",
        "\n",
        "\n",
        "\n"
      ],
      "metadata": {
        "id": "wYmdU71gQQ8I"
      }
    },
    {
      "cell_type": "markdown",
      "source": [
        "## INDEX\n",
        "\n",
        "\n",
        "1.   List item\n",
        "2.   List item\n",
        "\n"
      ],
      "metadata": {
        "id": "dcoryva8rmgU"
      }
    },
    {
      "cell_type": "markdown",
      "source": [
        "### 1.1 INTRO TO SQL\n",
        "\n",
        "1. **D.S** --> IN LAYMAN LANGUAGE ITS TO EXTACT MEANIGFUL DATA AND GIVE BUISNESS/ USEFUL INSIGHTS OR MAKE PREDICTION MODELS\n",
        "\n",
        "2. **D.A** --> SUBSET OF D.S --> EXTRACT INF MEANIGFUL DATA AND GIVE BUISNESS/ USEFUL INSIGHTS\n",
        " EXTRACT INF  + PREDICTION MODELS = D.S\n",
        "\n",
        " EX --> ELECTION DATA TO PREDICT RESULTS, STARTUP DATA TO GIVE NEXT YEAR SALES\n",
        "\n",
        " THIS DATA NEEDS TO BE STORE SOMWHERE -->THAT PLACE IS CALLED AS **DATABASE**\n",
        "\n",
        "3. **DATABASE** --> ORGANIZED COLLECTION OF DATA, WHICH ALLOW EASY ACCESS, MANAGEMENT,AND RETRIEVAL OF DATA, ITS LIKE DIGITAL FILLING CABINET\n",
        "\n",
        "   Database is a storage system that has a collection of data. Relational databases store data in the form of tables that can be easily retrieved, managed and updated\n",
        "\n",
        "\n",
        "    FE (OF COMAPNY)/ END USER ---> DBMS --> DB\n",
        "\n",
        "4. **DBMS**  --> DATABASE MANAGEMENT SYSTEM - SPECIALIZED SOFTWARE\n",
        "IT ACTS AS A BRIDGE BTW APP AND DB\n",
        "IT HELP US TO CREATE DB, MANAGE DB, RETRIEVE, CONTROL THE FLOW OF UR DATA\n",
        "\n",
        "  **IMP OF DBMS** --> 1. EFFICENCY OF DATA -CREATE DB, MANAGE DB, RETRIEVE, CONTROL THE FLOW OF UR DATA 2. IMPROVE DATA SHARING(N PEOPLE AT A TIME) 3. DATA INTEGRITY SECURITY\n",
        "\n",
        "  DATA IS A PIECE OF INF - STR (TABULAR), UNSTR(PDF,MEDIA LOGS, WORDD FILES, JSON), SEMI STR(IMAGES, VIDEOS)\n",
        "\n",
        "  **TYPES OF DBMS** -->\n",
        "                        1.Relational Databases\n",
        "                        2.Non-Relational Databases -NOSQL\n",
        "                        3.Hierarchical -- IBM Inf management, window registry, no sql dbms\n",
        "                        4.Network\n",
        "                        5.Object oriented - postgres, informix\n",
        "                        6.Columnar - cassandra,**amazon redshift, google bigquery, sap hana**\n",
        "                        7.in memory - sap hana, oracle time\n",
        "                        8.cloud base - aws, google cloud, azure sql\n",
        "                        9.distributed - google spanner, cockroach db\n",
        "\n",
        " **Relational Databases (SQL)** -->These store data in tables (rows = records/ instance of data and columns=attributes) and maintain relationships between different tables using keys (Primary Key, Foreign Key).\n",
        " SQL is used to query and manipulate relational databases.Popular Relational Databases:- 1.MySQL -OPEN 2.PostgreSQL -- JSON ADVANCE INDEXING\n",
        " 3.Microsoft SQL Server -OPEN 4.Oracle Database - LARGE\n",
        "\n",
        " **NON Relational Databases (NO SQL)** -->These (often referred to as NoSQL databases) do not follow a tabular structure. Instead, they store data in various formats such as key-value pairs, documents, graphs, or columns.\n",
        "  \n",
        "  NoSQL databases are more flexible and are often used when dealing with large volumes of unstructured or semi-structured data.\n",
        "  \n",
        "  **Popular Non-Relational Databases:** -->\n",
        "                                             1.MongoDB (Document-based)\n",
        "                                             2.Cassandra (Column-family based)\n",
        "                                             3.Redis (Key-value store)\n",
        "                                             4.Neo4j (Graph-based)\n",
        "                                             \n",
        "  **Relational vs. Non-Relational Databases** -->\n",
        "\n",
        "  1.Data is stored in structured tables with relationships between different tables. || Data is stored in a flexible format (key-value pairs, documents, columns, etc.).\n",
        "\n",
        "  2.Provides ACID (Atomicity, Consistency, Isolation, Durability) properties, ensuring data reliability and integrity. ||\n",
        "  Offers scalability and better performance for unstructured or semi-structured data.Provides BASE (Basically Available, Soft state, Eventual consistency) for high availability and distributed systems.\n",
        "\n",
        "  3.fixed predefined schema || flexible schema\n",
        "\n",
        "  4.SCALABILITY - VERTICAL scale up means adding more rows ||HORIZONTAL adding more columns is easy\n",
        "  \n",
        "  5.Suitable for complex querying and data analysis.More rigid schema with predefined structure. || Used for high-throughput, large datasets with simple queries.\n",
        "\n",
        "  **ACID PROPERTIES** ---> transaction --one logical unit of work -add/delete of data\n",
        "  1. Atomicity: Ensures all database transactions are fully completed or fully rolled back.\n",
        "  2. Consistency: Ensures data remains in a valid state before and after transactions, across db\n",
        "  3. Isolation: Ensures transactions occur independently.ex - 2 people booking seat\n",
        "  4. Durability: Ensures data is permanently stored after a transaction.ex-seat book can't be lost if data is also deleted\n",
        "\n",
        "  **BASE properties**:\n",
        "  1. Basically Available: Ensures system availability even in case of failures.\n",
        "  2. Soft State: The state of the system may change over time.\n",
        "  3. Eventual Consistency: Ensures data consistency over time without strict transactional guarantees.\n",
        "  \n",
        "  **SQL vs. NoSQL**\n",
        "\n",
        "  1.SQL (Relational Databases): -->Uses (SQL) for database interaction.\n",
        "Suitable for applications where data relationships and integrity are crucial.\n",
        "\n",
        "   NoSQL (Non-Relational Databases)\n",
        "   No specific query language; interaction happens through APIs or other query models depending on the database (e.g., MongoDB uses MQL—Mongo Query Language).\n",
        "\n",
        " 2.Requires a fixed schema, making it less flexible in terms of data structure. || Offers flexibility in schema design, allowing the data model to evolve over time.\n",
        "\n",
        " Ideal for high-velocity, high-volume data with minimal structure, such as real-time data processing or big data applications.\n",
        "\n",
        " **Components of RDBMS** --> 1.Tables 2.relationship btw tables 3.data integrity -constraints 4.normalization -its set of rules to organize data in a way that we have lesser duplicay or inconsistency. decomposing a big table into n small tables\n",
        "\n",
        "  \n",
        "\n",
        "\n",
        "\n",
        "\n"
      ],
      "metadata": {
        "id": "G7bJpeDur3YG"
      }
    },
    {
      "cell_type": "markdown",
      "source": [
        "### 1.2INTRO TO SQL\n",
        "\n",
        "1. **SQL (Structured Query Language)** -->It is a powerful language used to communicate with and manage data stored in relational databases.\n",
        "\n",
        "   It enables users to create, modify, and manipulate data structures and records.\n",
        "   \n",
        "   SQL is commonly employed to query, insert, update, and delete records, as well as to design and alter the database itself.\n",
        "  \n",
        "   With its versatility, SQL can handle complex queries and process large volumes of data, making it the most widely used language for managing databases across various applications.\n",
        "   \n",
        "2. **Functions of SQL:**\n",
        "          1.Data Querying: Retrieve data from a database using the SELECT statement.\n",
        "          2.Data Manipulation: Perform operations like inserting (INSERT), updating (UPDATE), and deleting (DELETE) data.\n",
        "          3.Data Definition: Define the structure of a database using Data Definition Language (DDL) commands like CREATE, ALTER, and DROP.\n",
        "          4.Data Control: Control access and permissions to data using Data Control Language (DCL) commands like GRANT and REVOKE.\n",
        "'\n",
        "3. **Importance of SQL:**\n",
        "          1.Industry Standard: SQL is the most widely used database language across the globe.\n",
        "          2.Scalability: SQL databases can handle a huge volume of data, making it essential for data-driven businesses and organizations.\n",
        "          3.Cross-Platform Compatibility: SQL can be used on various platforms (Windows, Mac, Linux) and supports different database systems.\n",
        "          4.Declarative Nature: SQL is a declarative language\n",
        "          5.Data Integrity: SQL helps enforce data integrity and security with features like constraints (e.g., PRIMARY KEY, FOREIGN KEY) and permissions (DCL commands).\n",
        "\n",
        "4. **Applications of SQL** -\n",
        "          1.Data Storage: SQL is the standard language used to store and manipulate data in relational databases.\n",
        "          2.Data Definition: SQL is used to create, alter, and manage the structure of database objects such as tables, indexes, and views.3.Data Retrieval: SQL allows users to query and filter data from one or more tables\n",
        "          4.Data Manipulation: SQL can be used to update, insert, and delete records within a database.\n",
        "          5.Data Security: SQL manages access controls, granting and revoking user permissions to maintain data security.\n",
        "          6.Data Analysis: SQL supports data analysis by performing calculations, generating reports, and creating visualizations based on queried data.\n",
        "\n",
        "5. **Advantages of SQL** -\n",
        "          1.Ease of Use: SQL is user-friendly, with clear syntax\n",
        "          2.Standardization: SQL is a standardized language, making it compatible with numerous database management systems.\n",
        "          3.Scalability: SQL can handle large datasets and scale with growing business needs.\n",
        "          4.Flexibility: SQL is highly adaptable, capable of handling both simple queries and complex data analysis.\n",
        "          5.Security: SQL includes built-in security features\n",
        "          6.Performance: SQL is optimized for performance, allowing for quick query execution and real-time data retrieval, making it a valuable tool for decision-making.\n",
        "\n",
        "6. **Limitations of SQL** -\n",
        "          1.Complexity: SQL can be difficult to learn, especially for beginners unfamiliar with database design and programming concepts.\n",
        "          2.Limited Support for Non-Relational Data: SQL is specifically designed for relational databases, which may not be ideal for managing non-relational data formats like JSON or XML.\n",
        "          3.Cost: Some SQL-based database management systems are expensive to license, particularly for large-scale enterprise applications.4.Scalability Challenges: Although SQL is scalable, managing very large datasets with a centralized architecture can pose challenges and lead to performance bottlenecks.\n",
        "          5.Performance Issues with Large Datasets: SQL may experience performance degradation when handling exceptionally large datasets or highly complex queries, potentially impacting user experience."
      ],
      "metadata": {
        "id": "UU8aX6jns3EO"
      }
    },
    {
      "cell_type": "markdown",
      "source": [],
      "metadata": {
        "id": "FccPtqDh6GcO"
      }
    }
  ]
}